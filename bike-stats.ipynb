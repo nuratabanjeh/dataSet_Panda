{
 "cells": [
  {
   "cell_type": "markdown",
   "source": [
    "# Data Analysis with Pandas\n",
    " ## bike-stats\n",
    "\n",
    "### Nura tabanjeh\n",
    "\n",
    "#### 10/8/2021"
   ],
   "metadata": {}
  },
  {
   "cell_type": "code",
   "execution_count": 1,
   "source": [
    "import pandas as pd \n",
    "import numpy as np"
   ],
   "outputs": [],
   "metadata": {}
  },
  {
   "cell_type": "code",
   "execution_count": 4,
   "source": [
    "df_trip = pd.read_csv('./trip.csv',error_bad_lines=False)\n",
    "df_whether = pd.read_csv('./weather.csv')\n",
    "df_station = pd.read_csv('./station.csv')"
   ],
   "outputs": [
    {
     "output_type": "stream",
     "name": "stderr",
     "text": [
      "b'Skipping line 50794: expected 12 fields, saw 20\\n'\n"
     ]
    }
   ],
   "metadata": {}
  },
  {
   "cell_type": "markdown",
   "source": [
    "### 1. What is the average trip duration for a borrowed bicycle?"
   ],
   "metadata": {}
  },
  {
   "cell_type": "code",
   "execution_count": 5,
   "source": [
    "avg_trip_duration=df_trip['tripduration'].mean()\n",
    "avg_trip_duration"
   ],
   "outputs": [
    {
     "output_type": "execute_result",
     "data": {
      "text/plain": [
       "1178.2956753399776"
      ]
     },
     "metadata": {},
     "execution_count": 5
    }
   ],
   "metadata": {}
  },
  {
   "cell_type": "markdown",
   "source": [
    "### 2. What’s the most common age of a bicycle-sharer?"
   ],
   "metadata": {}
  },
  {
   "cell_type": "code",
   "execution_count": 8,
   "source": [
    "most_common_age= 2021-(df_trip.birthyear.mode()[0])\n",
    "most_common_age"
   ],
   "outputs": [
    {
     "output_type": "execute_result",
     "data": {
      "text/plain": [
       "34.0"
      ]
     },
     "metadata": {},
     "execution_count": 8
    }
   ],
   "metadata": {}
  },
  {
   "cell_type": "markdown",
   "source": [
    "### 3. Given all the weather data here, find the average precipitation per month, and the median precipitation."
   ],
   "metadata": {}
  },
  {
   "cell_type": "code",
   "execution_count": 9,
   "source": [
    "df_whether\n",
    "avg_precipitation_per_month=df_whether['Precipitation_In'].mean()*30\n",
    "median_precipitation=df_whether['Precipitation_In'].median()\n",
    "compairing=(avg_precipitation_per_month, median_precipitation)\n",
    "compairing"
   ],
   "outputs": [
    {
     "output_type": "execute_result",
     "data": {
      "text/plain": [
       "(3.1519593613933234, 0.0)"
      ]
     },
     "metadata": {},
     "execution_count": 9
    }
   ],
   "metadata": {}
  },
  {
   "cell_type": "markdown",
   "source": [
    "### 4. what’s the average number of bikes at a given bike station?"
   ],
   "metadata": {}
  },
  {
   "cell_type": "code",
   "execution_count": 10,
   "source": [
    "avg_bikes_in_station= round(df_station['install_dockcount'].mean())\n",
    "avg_bikes_in_station"
   ],
   "outputs": [
    {
     "output_type": "execute_result",
     "data": {
      "text/plain": [
       "18"
      ]
     },
     "metadata": {},
     "execution_count": 10
    }
   ],
   "metadata": {}
  },
  {
   "cell_type": "markdown",
   "source": [
    "### 5. When a bike station is modified, is it more likely that it’ll lose bikes or gain bikes? How do you know?"
   ],
   "metadata": {}
  },
  {
   "cell_type": "code",
   "execution_count": 11,
   "source": [
    "date=df_station[['modification_date','current_dockcount','install_dockcount']].dropna()\n",
    "station_is_modified=date['current_dockcount'].sum() - date['install_dockcount'].sum()\n",
    "print(station_is_modified)\n",
    "print('it will lose')\n"
   ],
   "outputs": [
    {
     "output_type": "stream",
     "name": "stdout",
     "text": [
      "-64\n",
      "it will lose\n"
     ]
    }
   ],
   "metadata": {}
  },
  {
   "cell_type": "markdown",
   "source": [
    "### 6. come up with 3 more questions that can be answered with this data set."
   ],
   "metadata": {}
  },
  {
   "cell_type": "markdown",
   "source": [
    "### what is the avg of max humidity?"
   ],
   "metadata": {}
  },
  {
   "cell_type": "code",
   "execution_count": 13,
   "source": [
    "max_humidity= df_whether['Max_Humidity'].mean()\n",
    "max_humidity"
   ],
   "outputs": [
    {
     "output_type": "execute_result",
     "data": {
      "text/plain": [
       "84.54136429608128"
      ]
     },
     "metadata": {},
     "execution_count": 13
    }
   ],
   "metadata": {}
  },
  {
   "cell_type": "markdown",
   "source": [
    "### what is the avg max temp?"
   ],
   "metadata": {}
  },
  {
   "cell_type": "code",
   "execution_count": 14,
   "source": [
    "avg_max_temp=df_whether['Max_Temperature_F'].mean()\n",
    "avg_max_temp"
   ],
   "outputs": [
    {
     "output_type": "execute_result",
     "data": {
      "text/plain": [
       "64.02757619738752"
      ]
     },
     "metadata": {},
     "execution_count": 14
    }
   ],
   "metadata": {}
  },
  {
   "cell_type": "markdown",
   "source": [
    "### what is the avg min temp?"
   ],
   "metadata": {}
  },
  {
   "cell_type": "code",
   "execution_count": 15,
   "source": [
    "avg_min_temp=df_whether['Min_TemperatureF'].mean()\n",
    "avg_min_temp"
   ],
   "outputs": [
    {
     "output_type": "execute_result",
     "data": {
      "text/plain": [
       "49.45428156748911"
      ]
     },
     "metadata": {},
     "execution_count": 15
    }
   ],
   "metadata": {}
  },
  {
   "cell_type": "code",
   "execution_count": 16,
   "source": [
    "def test():\n",
    "\n",
    "    def assert_equal(actual,expected):\n",
    "        assert actual == expected, f\"Expected {expected} but got {actual}\"\n",
    "\n",
    "        assert_equal(avg_trip_duration, 1178.2956753399776)\n",
    "        assert_equal(most_common_age, 34.0)\n",
    "        assert_equal(compairing, (3.1519593613933234, 0.0))\n",
    "        assert_equal(avg_bikes_in_station, 18)\n",
    "        assert_equal(station_is_modified, -64)\n",
    "        assert_equal(max_humidity, 84.54136429608128)\n",
    "        assert_equal(avg_max_temp, 64.02757619738752)\n",
    "        assert_equal(avg_min_temp, 49.45428156748911)\n",
    "\n",
    "\n",
    "    print(\"Success!!!\")\n",
    "\n",
    "test()"
   ],
   "outputs": [
    {
     "output_type": "stream",
     "name": "stdout",
     "text": [
      "Success!!!\n"
     ]
    }
   ],
   "metadata": {}
  }
 ],
 "metadata": {
  "orig_nbformat": 4,
  "language_info": {
   "name": "python",
   "version": "3.9.6",
   "mimetype": "text/x-python",
   "codemirror_mode": {
    "name": "ipython",
    "version": 3
   },
   "pygments_lexer": "ipython3",
   "nbconvert_exporter": "python",
   "file_extension": ".py"
  },
  "kernelspec": {
   "name": "python3",
   "display_name": "Python 3.9.6 64-bit ('.venv': poetry)"
  },
  "interpreter": {
   "hash": "52bf842d1c4966e324a8716f56f36b4720256b29c18a0fae54430d363fa9b9cf"
  }
 },
 "nbformat": 4,
 "nbformat_minor": 2
}